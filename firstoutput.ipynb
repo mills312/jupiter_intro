{
 "cells": [
  {
   "cell_type": "code",
   "execution_count": 1,
   "metadata": {},
   "outputs": [
    {
     "name": "stdout",
     "output_type": "stream",
     "text": [
      "2022-03-14\n"
     ]
    }
   ],
   "source": [
    "from datetime import date\n",
    "print(date.today())"
   ]
  },
  {
   "cell_type": "code",
   "execution_count": 2,
   "metadata": {},
   "outputs": [
    {
     "ename": "ValueError",
     "evalue": "invalid literal for int() with base 10: ''",
     "output_type": "error",
     "traceback": [
      "\u001b[0;31m---------------------------------------------------------------------------\u001b[0m",
      "\u001b[0;31mValueError\u001b[0m                                Traceback (most recent call last)",
      "\u001b[1;32m/home/mills312/Documents/repos/jupiter_intro/firstoutput.ipynb Cell 2'\u001b[0m in \u001b[0;36m<cell line: 2>\u001b[0;34m()\u001b[0m\n\u001b[1;32m      <a href='vscode-notebook-cell:/home/mills312/Documents/repos/jupiter_intro/firstoutput.ipynb#ch0000001?line=0'>1</a>\u001b[0m parsecsinput \u001b[39m=\u001b[39m \u001b[39minput\u001b[39m(\u001b[39m\"\u001b[39m\u001b[39mHow many parsecs?\u001b[39m\u001b[39m\"\u001b[39m)\n\u001b[0;32m----> <a href='vscode-notebook-cell:/home/mills312/Documents/repos/jupiter_intro/firstoutput.ipynb#ch0000001?line=1'>2</a>\u001b[0m parsecs\u001b[39m=\u001b[39m\u001b[39mint\u001b[39;49m(parsecsinput)\n\u001b[1;32m      <a href='vscode-notebook-cell:/home/mills312/Documents/repos/jupiter_intro/firstoutput.ipynb#ch0000001?line=2'>3</a>\u001b[0m lightyears \u001b[39m=\u001b[39m parsecs \u001b[39m*\u001b[39m \u001b[39m3.26\u001b[39m\n\u001b[1;32m      <a href='vscode-notebook-cell:/home/mills312/Documents/repos/jupiter_intro/firstoutput.ipynb#ch0000001?line=3'>4</a>\u001b[0m \u001b[39mprint\u001b[39m(\u001b[39mstr\u001b[39m(parsecs) \u001b[39m+\u001b[39m \u001b[39m\"\u001b[39m\u001b[39m parsecs is \u001b[39m\u001b[39m\"\u001b[39m \u001b[39m+\u001b[39m \u001b[39mstr\u001b[39m(lightyears) \u001b[39m+\u001b[39m \u001b[39m\"\u001b[39m\u001b[39m lightyears.\u001b[39m\u001b[39m\"\u001b[39m)\n",
      "\u001b[0;31mValueError\u001b[0m: invalid literal for int() with base 10: ''"
     ]
    }
   ],
   "source": [
    "parsecsinput = input(\"How many parsecs?\")\n",
    "parsecs=int(parsecsinput)\n",
    "lightyears = parsecs * 3.26\n",
    "print(str(parsecs) + \" parsecs is \" + str(lightyears) + \" lightyears.\")"
   ]
  }
 ],
 "metadata": {
  "interpreter": {
   "hash": "2902d4848274515c73bd43fd17abfb07c0ee1162482e9cda9f19b41b860f6ab1"
  },
  "kernelspec": {
   "display_name": "Python 3.9.4 64-bit",
   "language": "python",
   "name": "python3"
  },
  "language_info": {
   "codemirror_mode": {
    "name": "ipython",
    "version": 3
   },
   "file_extension": ".py",
   "mimetype": "text/x-python",
   "name": "python",
   "nbconvert_exporter": "python",
   "pygments_lexer": "ipython3",
   "version": "3.8.10"
  },
  "orig_nbformat": 4
 },
 "nbformat": 4,
 "nbformat_minor": 2
}
