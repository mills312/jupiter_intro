{
 "cells": [
  {
   "cell_type": "markdown",
   "metadata": {},
   "source": [
    "a LOOP example"
   ]
  },
  {
   "cell_type": "code",
   "execution_count": 8,
   "metadata": {},
   "outputs": [],
   "source": [
    "new_planet = ''\n",
    "planets = []\n",
    "\n",
    "while new_planet.lower() != 'done':\n",
    "    if new_planet:\n",
    "        planets.append(new_planet)\n",
    "    new_planet = input(\"Ener a planet name; or, enter 'done' when done\")\n",
    "\n",
    "#print(planets)"
   ]
  },
  {
   "cell_type": "markdown",
   "metadata": {},
   "source": [
    "a FOR EACH example"
   ]
  },
  {
   "cell_type": "code",
   "execution_count": 10,
   "metadata": {},
   "outputs": [
    {
     "name": "stdout",
     "output_type": "stream",
     "text": [
      "venus\n",
      "mercvury\n",
      "jupiter\n",
      "alex\n",
      "---------------\n",
      "Have a nice day\n"
     ]
    }
   ],
   "source": [
    "for p in planets:\n",
    "    print(p)\n",
    "print(\"---------------\")\n",
    "print(\"Have a nice day\")"
   ]
  },
  {
   "cell_type": "code",
   "execution_count": 31,
   "metadata": {},
   "outputs": [
    {
     "name": "stdout",
     "output_type": "stream",
     "text": [
      "{'name': 'Mercury', 'id': 1, 'moons': 0, 'diameter': {'polar': 133709, 'equatorial': 142984}}\n",
      "Mercury has a polar dimension of 133709 kilometers.\n"
     ]
    }
   ],
   "source": [
    "planet = {'name':'mercury', 'id':1, 'moons':2}\n",
    "#print(planet.get(\"name\"))\n",
    "#print(planet['name'])\n",
    "planet.update({'name':\"Mercury\",'moons':0})\n",
    "planet['orbitalPeriod']=4333\n",
    "planet.pop('orbitalPeriod')\n",
    "planet['diameter'] = {\n",
    "    'polar': 133709,\n",
    "    'equatorial': 142984\n",
    "}\n",
    "print(planet)\n",
    "print(planet['name'] + ' has a polar dimension of ' + str(planet['diameter']['polar']) + ' kilometers.')\n"
   ]
  }
 ],
 "metadata": {
  "interpreter": {
   "hash": "2902d4848274515c73bd43fd17abfb07c0ee1162482e9cda9f19b41b860f6ab1"
  },
  "kernelspec": {
   "display_name": "Python 3.9.4 64-bit",
   "language": "python",
   "name": "python3"
  },
  "language_info": {
   "codemirror_mode": {
    "name": "ipython",
    "version": 3
   },
   "file_extension": ".py",
   "mimetype": "text/x-python",
   "name": "python",
   "nbconvert_exporter": "python",
   "pygments_lexer": "ipython3",
   "version": "3.9.4"
  },
  "orig_nbformat": 4
 },
 "nbformat": 4,
 "nbformat_minor": 2
}
