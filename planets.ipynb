{
 "cells": [
  {
   "cell_type": "code",
   "execution_count": 6,
   "metadata": {},
   "outputs": [
    {
     "name": "stdout",
     "output_type": "stream",
     "text": [
      "Here are the planet(s) closer to the sun than: Mars\n",
      "['Mercury', 'Venus', 'Earth']\n",
      "Here are the planets further to the sun than: Mars\n",
      "['Jupiter', 'Saturn', 'Neptune']\n"
     ]
    }
   ],
   "source": [
    "planets = [\"Mercury\", \"Venus\", \"Earth\", \"Mars\", \"Jupiter\", \"Saturn\", \"Neptune\"]\n",
    "\n",
    "user_planet = input(\"Please enter the name of the planet (with a capital letter to start)\")\n",
    "\n",
    "planet_i = planets.index(user_planet.title())\n",
    "\n",
    "print(\"Here are the planet(s) closer to the sun than: \" + user_planet)\n",
    "print(planets[0:planet_i])\n",
    "print(\"Here are the planets further to the sun than: \" + user_planet)\n",
    "print(planets[planet_i + 1:])"
   ]
  }
 ],
 "metadata": {
  "interpreter": {
   "hash": "2902d4848274515c73bd43fd17abfb07c0ee1162482e9cda9f19b41b860f6ab1"
  },
  "kernelspec": {
   "display_name": "Python 3.9.4 64-bit",
   "language": "python",
   "name": "python3"
  },
  "language_info": {
   "codemirror_mode": {
    "name": "ipython",
    "version": 3
   },
   "file_extension": ".py",
   "mimetype": "text/x-python",
   "name": "python",
   "nbconvert_exporter": "python",
   "pygments_lexer": "ipython3",
   "version": "3.9.4"
  },
  "orig_nbformat": 4
 },
 "nbformat": 4,
 "nbformat_minor": 2
}
