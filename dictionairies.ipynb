{
 "cells": [
  {
   "cell_type": "code",
   "execution_count": 7,
   "metadata": {},
   "outputs": [
    {
     "name": "stdout",
     "output_type": "stream",
     "text": [
      "Hello Mars\n"
     ]
    }
   ],
   "source": [
    "planet = {'id':4, 'name':'Mars', 'moons':2}\n",
    "planet['circumference'] = {'polar': 6752, 'equatorial': 6792}\n",
    "pname = planet['name']\n",
    "print(f'Hello {pname}')\n"
   ]
  },
  {
   "cell_type": "code",
   "execution_count": 17,
   "metadata": {},
   "outputs": [
    {
     "name": "stdout",
     "output_type": "stream",
     "text": [
      "17.833333333333332\n"
     ]
    }
   ],
   "source": [
    "planet_moons = {'mercury': 0,\n",
    "'venus': 0,\n",
    "'earth': 1,\n",
    "'mars': 2,\n",
    "'jupiter': 79,\n",
    "'saturn': 82,\n",
    "'uranus': 27,\n",
    "'neptune': 14,\n",
    "'pluto': 5,\n",
    "'haumea': 2,\n",
    "'makemake': 1,\n",
    "'eris': 1}\n",
    "\n",
    "ttl_moons = 0\n",
    "#avg_moons = 0\n",
    "moons = planet_moons.values()\n",
    "total_panets = len(planet_moons.keys())\n",
    "for m in moons:\n",
    "    ttl_moons = ttl_moons + m\n",
    "avg_moons = ttl_moons/total_panets\n",
    "print(avg_moons)"
   ]
  },
  {
   "cell_type": "code",
   "execution_count": null,
   "metadata": {},
   "outputs": [],
   "source": []
  }
 ],
 "metadata": {
  "interpreter": {
   "hash": "2902d4848274515c73bd43fd17abfb07c0ee1162482e9cda9f19b41b860f6ab1"
  },
  "kernelspec": {
   "display_name": "Python 3.9.4 64-bit",
   "language": "python",
   "name": "python3"
  },
  "language_info": {
   "codemirror_mode": {
    "name": "ipython",
    "version": 3
   },
   "file_extension": ".py",
   "mimetype": "text/x-python",
   "name": "python",
   "nbconvert_exporter": "python",
   "pygments_lexer": "ipython3",
   "version": "3.9.4"
  },
  "orig_nbformat": 4
 },
 "nbformat": 4,
 "nbformat_minor": 2
}
